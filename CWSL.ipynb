{
 "cells": [
  {
   "cell_type": "code",
   "execution_count": 1,
   "metadata": {},
   "outputs": [],
   "source": [
    "from __future__ import print_function\n",
    "import argparse\n",
    "import torch\n",
    "import torch.nn as nn\n",
    "import torch.nn.functional as F\n",
    "import torch.optim as optim\n",
    "from torch.utils.data import Dataset, DataLoader\n",
    "import numpy as np\n",
    "from sklearn.metrics import roc_auc_score\n",
    "from sklearn.metrics import accuracy_score\n",
    "import torch\n",
    "import joblib\n",
    "from model import *\n",
    "\n",
    "import matplotlib.pyplot as plt\n",
    "from torch.autograd import Variable\n",
    "import torch.nn as nn\n",
    "import torch.nn.functional as F\n",
    "\n",
    "import warnings\n",
    "warnings.filterwarnings(\"ignore\")"
   ]
  },
  {
   "cell_type": "code",
   "execution_count": 2,
   "metadata": {},
   "outputs": [
    {
     "name": "stdout",
     "output_type": "stream",
     "text": [
      "(569, 30)\n"
     ]
    }
   ],
   "source": [
    "from sklearn import datasets\n",
    "breast_cancer = datasets.load_breast_cancer()\n",
    "data, labels = breast_cancer['data'], breast_cancer['target']\n",
    "mu = np.mean(data, axis = 0)\n",
    "std = np.std(data, axis = 0)\n",
    "data = (data - mu) / std\n",
    "print(data.shape)"
   ]
  },
  {
   "cell_type": "code",
   "execution_count": 3,
   "metadata": {},
   "outputs": [],
   "source": [
    "np.random.seed(2)\n",
    "num_train = 469\n",
    "num_noisy = 100\n",
    "num_val = 50\n",
    "num_test = 50\n",
    "train_data, train_labels = data[:num_train,:], labels[:num_train].reshape(num_train, 1)\n",
    "noisy_index = np.random.randint(0, num_train, num_noisy)\n",
    "train_labels[noisy_index] = 1 - train_labels[noisy_index]\n",
    "\n",
    "val_data, val_labels = data[num_train:num_train+num_val,:], labels[num_train:num_train+num_val].reshape(num_val, 1)\n",
    "\n",
    "test_data, test_labels = data[num_train+num_val:, :], labels[num_train+num_val:].reshape(len(labels) - num_train - num_val, 1)"
   ]
  },
  {
   "cell_type": "code",
   "execution_count": 4,
   "metadata": {},
   "outputs": [],
   "source": [
    "def train_approx(weights, x_train, y_train, x_val, y_val, x_test, y_test):\n",
    "    \n",
    "    learning_rate = 0.01\n",
    "    weight_list = []\n",
    "    train_loss = []\n",
    "    val_loss = []\n",
    "    val_acc = [] \n",
    "    test_acc = []\n",
    "    \n",
    "    x_var = Variable(torch.FloatTensor(x_train))\n",
    "    y_var = Variable(torch.FloatTensor(y_train))\n",
    "    \n",
    "    x_val_var = Variable(torch.FloatTensor(x_val))\n",
    "    y_val_var = Variable(torch.FloatTensor(y_val))\n",
    "    \n",
    "    test_var = Variable(torch.FloatTensor(x_test), requires_grad=True)\n",
    "    \n",
    "    LR = net(x_train.shape[1], 1)\n",
    "    optimizer = torch.optim.SGD(LR.params(), lr=learning_rate)\n",
    "    \n",
    "    weight_list.append(weights.clone().detach().numpy())\n",
    "    for i in range(100):\n",
    "        LR.train()\n",
    "        \n",
    "        #Compute training loss\n",
    "        y_f_hat = LR(x_var)\n",
    "        cost = F.binary_cross_entropy_with_logits(y_f_hat, y_var, reduce = False)\n",
    "        l_f = torch.mm(weights, cost)[0][0] / len(x_train)\n",
    "        train_loss.append(l_f)\n",
    "    \n",
    "        #Upate model prarameters\n",
    "        LR.zero_grad()\n",
    "        grads = torch.autograd.grad(l_f, (LR.params()), create_graph=True)\n",
    "        LR.update_params(learning_rate, source_params=grads)\n",
    "        \n",
    "        \n",
    "        #Compute validation loss, you can change the cross entropy loss to other losses you need\n",
    "        y_g_hat = LR(x_val_var)\n",
    "        l_g_meta = F.binary_cross_entropy_with_logits(y_g_hat, y_val_var)\n",
    "        val_loss.append(l_g_meta)\n",
    "        \n",
    "        #compute the bi-level gradients\n",
    "        grad_eps = torch.autograd.grad(l_g_meta, weights, only_inputs = True)[0]\n",
    "        \n",
    "        #update weight\n",
    "        weights = weights - 10000 *  grad_eps # the learning rate need to carefully tuned.\n",
    "        weights = torch.clamp(weights, 0.0, 1.0)\n",
    "        \n",
    "        weight_list.append(weights.clone().detach().numpy())\n",
    "        \n",
    "    return weight_list, train_loss, val_loss, val_acc, test_acc"
   ]
  },
  {
   "cell_type": "code",
   "execution_count": 5,
   "metadata": {},
   "outputs": [],
   "source": [
    "weights = Variable(0.5*torch.ones(1, train_data.shape[0]), requires_grad = True)\n",
    "weight_list, train_loss, val_loss, val_acc, test_acc = train_approx(weights, train_data, train_labels, val_data, val_labels, test_data, test_labels)"
   ]
  },
  {
   "cell_type": "code",
   "execution_count": 14,
   "metadata": {},
   "outputs": [],
   "source": [
    "def plot_weight(iteration):\n",
    "    noisy_weight = []\n",
    "    clean_weight = []\n",
    "    bins = np.linspace(0.0, 1.0, 20)\n",
    "    for i in range(len(weight_list[iteration][0])):\n",
    "        if i in noisy_index:\n",
    "            noisy_weight.append(weight_list[iteration][0][i])\n",
    "        else:\n",
    "            clean_weight.append(weight_list[iteration][0][i])\n",
    "\n",
    "    plt.hist([noisy_weight, clean_weight], bins, label=['Noisy', 'Clean'], color=['r','b'])\n",
    "    plt.legend()"
   ]
  },
  {
   "cell_type": "code",
   "execution_count": 15,
   "metadata": {},
   "outputs": [
    {
     "data": {
      "image/png": "[encoded data removed]",
      "text/plain": [
       "<Figure size 432x288 with 1 Axes>"
      ]
     },
     "metadata": {
      "needs_background": "light"
     },
     "output_type": "display_data"
    }
   ],
   "source": [
    "plot_weight(1)"
   ]
  },
  {
   "cell_type": "code",
   "execution_count": 16,
   "metadata": {},
   "outputs": [
    {
     "data": {
      "image/png": "[encoded data removed]",
      "text/plain": [
       "<Figure size 432x288 with 1 Axes>"
      ]
     },
     "metadata": {
      "needs_background": "light"
     },
     "output_type": "display_data"
    }
   ],
   "source": [
    "plot_weight(10)"
   ]
  },
  {
   "cell_type": "code",
   "execution_count": 17,
   "metadata": {},
   "outputs": [
    {
     "data": {
      "image/png": "[encoded data removed]",
      "text/plain": [
       "<Figure size 432x288 with 1 Axes>"
      ]
     },
     "metadata": {
      "needs_background": "light"
     },
     "output_type": "display_data"
    }
   ],
   "source": [
    "plot_weight(100)"
   ]
  },
  {
   "cell_type": "code",
   "execution_count": null,
   "metadata": {},
   "outputs": [],
   "source": []
  }
 ],
 "metadata": {
  "kernelspec": {
   "display_name": "Python 3",
   "language": "python",
   "name": "python3"
  },
  "language_info": {
   "codemirror_mode": {
    "name": "ipython",
    "version": 3
   },
   "file_extension": ".py",
   "mimetype": "text/x-python",
   "name": "python",
   "nbconvert_exporter": "python",
   "pygments_lexer": "ipython3",
   "version": "3.7.4"
  }
 },
 "nbformat": 4,
 "nbformat_minor": 2
}
